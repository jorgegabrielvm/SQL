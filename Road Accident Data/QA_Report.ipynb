{
 "cells": [
  {
   "cell_type": "markdown",
   "metadata": {},
   "source": [
    "# SQL QA: Road Accident Data"
   ]
  },
  {
   "cell_type": "markdown",
   "metadata": {},
   "source": [
    "link to Excel Dashboard : https://drive.google.com/drive/folders/1wytKJj4COHSZxhVm2_Ryebo2kDeC1rDk?usp=drive_link"
   ]
  },
  {
   "cell_type": "code",
   "execution_count": 70,
   "metadata": {},
   "outputs": [],
   "source": [
    "import csv, sqlite3\n",
    "\n",
    "con = sqlite3.connect(\"RoadAccidents.db\")\n",
    "cur = con.cursor()"
   ]
  },
  {
   "cell_type": "code",
   "execution_count": 71,
   "metadata": {},
   "outputs": [
    {
     "name": "stdout",
     "output_type": "stream",
     "text": [
      "The sql extension is already loaded. To reload it, use:\n",
      "  %reload_ext sql\n"
     ]
    }
   ],
   "source": [
    "%load_ext sql"
   ]
  },
  {
   "cell_type": "code",
   "execution_count": 72,
   "metadata": {},
   "outputs": [],
   "source": [
    "%sql sqlite:///RoadAccidents.db"
   ]
  },
  {
   "cell_type": "markdown",
   "metadata": {},
   "source": [
    "## Load CSV"
   ]
  },
  {
   "cell_type": "code",
   "execution_count": 73,
   "metadata": {},
   "outputs": [
    {
     "data": {
      "text/plain": [
       "307973"
      ]
     },
     "execution_count": 73,
     "metadata": {},
     "output_type": "execute_result"
    }
   ],
   "source": [
    "import pandas\n",
    "df = pandas.read_csv('Road Accident Data.csv')\n",
    "df.to_sql(\"road_accident\", con, if_exists='replace', index=False, method=\"multi\", chunksize=300)"
   ]
  },
  {
   "cell_type": "code",
   "execution_count": 74,
   "metadata": {},
   "outputs": [
    {
     "name": "stdout",
     "output_type": "stream",
     "text": [
      " * sqlite:///RoadAccidents.db\n",
      "Done.\n"
     ]
    },
    {
     "data": {
      "text/html": [
       "<table>\n",
       "    <thead>\n",
       "        <tr>\n",
       "            <th>name</th>\n",
       "        </tr>\n",
       "    </thead>\n",
       "    <tbody>\n",
       "        <tr>\n",
       "            <td>road_accident</td>\n",
       "        </tr>\n",
       "    </tbody>\n",
       "</table>"
      ],
      "text/plain": [
       "[('road_accident',)]"
      ]
     },
     "execution_count": 74,
     "metadata": {},
     "output_type": "execute_result"
    }
   ],
   "source": [
    "%sql SELECT name FROM sqlite_master WHERE type='table'"
   ]
  },
  {
   "cell_type": "markdown",
   "metadata": {},
   "source": [
    "## FIRST KPI"
   ]
  },
  {
   "cell_type": "markdown",
   "metadata": {},
   "source": [
    "### 1. Total Casualties"
   ]
  },
  {
   "cell_type": "code",
   "execution_count": 75,
   "metadata": {},
   "outputs": [
    {
     "name": "stdout",
     "output_type": "stream",
     "text": [
      " * sqlite:///RoadAccidents.db\n",
      "Done.\n"
     ]
    },
    {
     "data": {
      "text/html": [
       "<table>\n",
       "    <thead>\n",
       "        <tr>\n",
       "            <th>total_casualties</th>\n",
       "        </tr>\n",
       "    </thead>\n",
       "    <tbody>\n",
       "        <tr>\n",
       "            <td>417883</td>\n",
       "        </tr>\n",
       "    </tbody>\n",
       "</table>"
      ],
      "text/plain": [
       "[(417883,)]"
      ]
     },
     "execution_count": 75,
     "metadata": {},
     "output_type": "execute_result"
    }
   ],
   "source": [
    "%%sql\n",
    "SELECT SUM(Number_of_Casualties) AS total_casualties\n",
    "FROM road_accident"
   ]
  },
  {
   "cell_type": "markdown",
   "metadata": {},
   "source": [
    "### 2. Sum of Current year Casualties"
   ]
  },
  {
   "cell_type": "code",
   "execution_count": 76,
   "metadata": {},
   "outputs": [
    {
     "name": "stdout",
     "output_type": "stream",
     "text": [
      " * sqlite:///RoadAccidents.db\n",
      "Done.\n"
     ]
    },
    {
     "data": {
      "text/html": [
       "<table>\n",
       "    <thead>\n",
       "        <tr>\n",
       "            <th>cy_casualties</th>\n",
       "        </tr>\n",
       "    </thead>\n",
       "    <tbody>\n",
       "        <tr>\n",
       "            <td>195737</td>\n",
       "        </tr>\n",
       "    </tbody>\n",
       "</table>"
      ],
      "text/plain": [
       "[(195737,)]"
      ]
     },
     "execution_count": 76,
     "metadata": {},
     "output_type": "execute_result"
    }
   ],
   "source": [
    "%%sql\n",
    "SELECT SUM(Number_of_Casualties) AS cy_casualties\n",
    "FROM road_accident\n",
    "WHERE Year = 2022"
   ]
  },
  {
   "cell_type": "markdown",
   "metadata": {},
   "source": [
    "### 3. Distinct current year Casualties count"
   ]
  },
  {
   "cell_type": "code",
   "execution_count": 77,
   "metadata": {},
   "outputs": [
    {
     "name": "stdout",
     "output_type": "stream",
     "text": [
      " * sqlite:///RoadAccidents.db\n",
      "Done.\n"
     ]
    },
    {
     "data": {
      "text/html": [
       "<table>\n",
       "    <thead>\n",
       "        <tr>\n",
       "            <th>cy_accidents</th>\n",
       "        </tr>\n",
       "    </thead>\n",
       "    <tbody>\n",
       "        <tr>\n",
       "            <td>144419</td>\n",
       "        </tr>\n",
       "    </tbody>\n",
       "</table>"
      ],
      "text/plain": [
       "[(144419,)]"
      ]
     },
     "execution_count": 77,
     "metadata": {},
     "output_type": "execute_result"
    }
   ],
   "source": [
    "%%sql\n",
    "SELECT COUNT(DISTINCT Accident_Index) as cy_accidents\n",
    "FROM road_accident\n",
    "WHERE Year = 2022"
   ]
  },
  {
   "cell_type": "markdown",
   "metadata": {},
   "source": [
    "### 4. Fatal Accidents sum"
   ]
  },
  {
   "cell_type": "code",
   "execution_count": 78,
   "metadata": {},
   "outputs": [
    {
     "name": "stdout",
     "output_type": "stream",
     "text": [
      " * sqlite:///RoadAccidents.db\n",
      "Done.\n"
     ]
    },
    {
     "data": {
      "text/html": [
       "<table>\n",
       "    <thead>\n",
       "        <tr>\n",
       "            <th>cy_fatal_accidents</th>\n",
       "        </tr>\n",
       "    </thead>\n",
       "    <tbody>\n",
       "        <tr>\n",
       "            <td>2855</td>\n",
       "        </tr>\n",
       "    </tbody>\n",
       "</table>"
      ],
      "text/plain": [
       "[(2855,)]"
      ]
     },
     "execution_count": 78,
     "metadata": {},
     "output_type": "execute_result"
    }
   ],
   "source": [
    "%%sql\n",
    "SELECT SUM(Number_of_Casualties) as cy_fatal_accidents\n",
    "FROM road_accident\n",
    "WHERE Year = 2022 and Accident_Severity = 'Fatal'"
   ]
  },
  {
   "cell_type": "markdown",
   "metadata": {},
   "source": [
    "### 5. Fatal Accidents percentage"
   ]
  },
  {
   "cell_type": "code",
   "execution_count": 79,
   "metadata": {},
   "outputs": [
    {
     "name": "stdout",
     "output_type": "stream",
     "text": [
      " * sqlite:///RoadAccidents.db\n",
      "Done.\n"
     ]
    },
    {
     "data": {
      "text/html": [
       "<table>\n",
       "    <thead>\n",
       "        <tr>\n",
       "            <th>percentage_total_fatal</th>\n",
       "        </tr>\n",
       "    </thead>\n",
       "    <tbody>\n",
       "        <tr>\n",
       "            <td>1</td>\n",
       "        </tr>\n",
       "    </tbody>\n",
       "</table>"
      ],
      "text/plain": [
       "[(1,)]"
      ]
     },
     "execution_count": 79,
     "metadata": {},
     "output_type": "execute_result"
    }
   ],
   "source": [
    "%%sql\n",
    "SELECT CAST(SUM(Number_of_Casualties) AS DECIMAL(10,2)) * 100 /\n",
    "(SELECT CAST(SUM(Number_of_Casualties) AS DECIMAL(10,2)) FROM road_accident) AS percentage_total_fatal\n",
    "FROM road_accident\n",
    "WHERE Accident_Severity = 'Fatal'"
   ]
  },
  {
   "cell_type": "markdown",
   "metadata": {},
   "source": [
    "### 6. Serious Accidents sum"
   ]
  },
  {
   "cell_type": "code",
   "execution_count": 80,
   "metadata": {},
   "outputs": [
    {
     "name": "stdout",
     "output_type": "stream",
     "text": [
      " * sqlite:///RoadAccidents.db\n",
      "Done.\n"
     ]
    },
    {
     "data": {
      "text/html": [
       "<table>\n",
       "    <thead>\n",
       "        <tr>\n",
       "            <th>cy_serious_accidents</th>\n",
       "        </tr>\n",
       "    </thead>\n",
       "    <tbody>\n",
       "        <tr>\n",
       "            <td>27045</td>\n",
       "        </tr>\n",
       "    </tbody>\n",
       "</table>"
      ],
      "text/plain": [
       "[(27045,)]"
      ]
     },
     "execution_count": 80,
     "metadata": {},
     "output_type": "execute_result"
    }
   ],
   "source": [
    "%%sql\n",
    "SELECT SUM(Number_of_Casualties) as cy_serious_accidents\n",
    "FROM road_accident\n",
    "WHERE Year = 2022 and Accident_Severity = 'Serious'\n"
   ]
  },
  {
   "cell_type": "markdown",
   "metadata": {},
   "source": [
    "### 7. Serious Accidents percentage"
   ]
  },
  {
   "cell_type": "code",
   "execution_count": 81,
   "metadata": {},
   "outputs": [
    {
     "name": "stdout",
     "output_type": "stream",
     "text": [
      " * sqlite:///RoadAccidents.db\n",
      "Done.\n"
     ]
    },
    {
     "data": {
      "text/html": [
       "<table>\n",
       "    <thead>\n",
       "        <tr>\n",
       "            <th>percentage_total_serious</th>\n",
       "        </tr>\n",
       "    </thead>\n",
       "    <tbody>\n",
       "        <tr>\n",
       "            <td>14</td>\n",
       "        </tr>\n",
       "    </tbody>\n",
       "</table>"
      ],
      "text/plain": [
       "[(14,)]"
      ]
     },
     "execution_count": 81,
     "metadata": {},
     "output_type": "execute_result"
    }
   ],
   "source": [
    "%%sql\n",
    "SELECT CAST(SUM(Number_of_Casualties) AS DECIMAL(10,2)) * 100 /\n",
    "(SELECT CAST(SUM(Number_of_Casualties) AS DECIMAL(10,2)) FROM road_accident) AS percentage_total_serious\n",
    "FROM road_accident\n",
    "WHERE Accident_Severity = 'Serious'"
   ]
  },
  {
   "cell_type": "markdown",
   "metadata": {},
   "source": [
    "### 8. Slight Accidents sum"
   ]
  },
  {
   "cell_type": "code",
   "execution_count": 82,
   "metadata": {},
   "outputs": [
    {
     "name": "stdout",
     "output_type": "stream",
     "text": [
      " * sqlite:///RoadAccidents.db\n",
      "Done.\n"
     ]
    },
    {
     "data": {
      "text/html": [
       "<table>\n",
       "    <thead>\n",
       "        <tr>\n",
       "            <th>cy_slight_accidents</th>\n",
       "        </tr>\n",
       "    </thead>\n",
       "    <tbody>\n",
       "        <tr>\n",
       "            <td>165837</td>\n",
       "        </tr>\n",
       "    </tbody>\n",
       "</table>"
      ],
      "text/plain": [
       "[(165837,)]"
      ]
     },
     "execution_count": 82,
     "metadata": {},
     "output_type": "execute_result"
    }
   ],
   "source": [
    "%%sql\n",
    "SELECT SUM(Number_of_Casualties) as cy_slight_accidents\n",
    "FROM road_accident\n",
    "WHERE Year = 2022 and Accident_Severity = 'Slight'"
   ]
  },
  {
   "cell_type": "markdown",
   "metadata": {},
   "source": [
    "### 9. Slight Accidents percentage"
   ]
  },
  {
   "cell_type": "code",
   "execution_count": 83,
   "metadata": {},
   "outputs": [
    {
     "name": "stdout",
     "output_type": "stream",
     "text": [
      " * sqlite:///RoadAccidents.db\n",
      "Done.\n"
     ]
    },
    {
     "data": {
      "text/html": [
       "<table>\n",
       "    <thead>\n",
       "        <tr>\n",
       "            <th>percentage_total_slight</th>\n",
       "        </tr>\n",
       "    </thead>\n",
       "    <tbody>\n",
       "        <tr>\n",
       "            <td>84</td>\n",
       "        </tr>\n",
       "    </tbody>\n",
       "</table>"
      ],
      "text/plain": [
       "[(84,)]"
      ]
     },
     "execution_count": 83,
     "metadata": {},
     "output_type": "execute_result"
    }
   ],
   "source": [
    "%%sql\n",
    "SELECT CAST(SUM(Number_of_Casualties) AS DECIMAL(10,2)) * 100 /\n",
    "(SELECT CAST(SUM(Number_of_Casualties) AS DECIMAL(10,2)) FROM road_accident) AS percentage_total_slight\n",
    "FROM road_accident\n",
    "WHERE Accident_Severity = 'Slight'"
   ]
  },
  {
   "cell_type": "markdown",
   "metadata": {},
   "source": [
    "### 10. Accidents by Car"
   ]
  },
  {
   "cell_type": "code",
   "execution_count": 84,
   "metadata": {},
   "outputs": [
    {
     "name": "stdout",
     "output_type": "stream",
     "text": [
      " * sqlite:///RoadAccidents.db\n",
      "Done.\n"
     ]
    },
    {
     "data": {
      "text/html": [
       "<table>\n",
       "    <thead>\n",
       "        <tr>\n",
       "            <th>cars</th>\n",
       "            <th>car_casualties</th>\n",
       "        </tr>\n",
       "    </thead>\n",
       "    <tbody>\n",
       "        <tr>\n",
       "            <td>Cars</td>\n",
       "            <td>155804</td>\n",
       "        </tr>\n",
       "        <tr>\n",
       "            <td>Other</td>\n",
       "            <td>39933</td>\n",
       "        </tr>\n",
       "    </tbody>\n",
       "</table>"
      ],
      "text/plain": [
       "[('Cars', 155804), ('Other', 39933)]"
      ]
     },
     "execution_count": 84,
     "metadata": {},
     "output_type": "execute_result"
    }
   ],
   "source": [
    "%%sql\n",
    "SELECT\n",
    "\tCASE\n",
    "\t\tWHEN Vehicle_Type IN ('Car', 'Taxi/Private hire car') THEN 'Cars'\n",
    "\t\tELSE 'Other'\n",
    "\tEND AS cars,\n",
    "\tSUM(Number_of_Casualties)\n",
    "    as car_casualties\n",
    "FROM road_accident\n",
    "WHERE Year = 2022\n",
    "GROUP BY\n",
    "\tCASE\n",
    "\t\tWHEN Vehicle_Type IN ('Car', 'Taxi/Private hire car') THEN 'Cars'\n",
    "\t\tELSE 'Other'\n",
    "\tEND"
   ]
  },
  {
   "cell_type": "markdown",
   "metadata": {},
   "source": [
    "### 11. Accidents by Car (Percentage)"
   ]
  },
  {
   "cell_type": "code",
   "execution_count": 85,
   "metadata": {},
   "outputs": [
    {
     "name": "stdout",
     "output_type": "stream",
     "text": [
      " * sqlite:///RoadAccidents.db\n"
     ]
    },
    {
     "name": "stdout",
     "output_type": "stream",
     "text": [
      "Done.\n"
     ]
    },
    {
     "data": {
      "text/html": [
       "<table>\n",
       "    <thead>\n",
       "        <tr>\n",
       "            <th>cars</th>\n",
       "            <th>car_pertentage_casualties</th>\n",
       "        </tr>\n",
       "    </thead>\n",
       "    <tbody>\n",
       "        <tr>\n",
       "            <td>Cars</td>\n",
       "            <td>79</td>\n",
       "        </tr>\n",
       "        <tr>\n",
       "            <td>Other</td>\n",
       "            <td>20</td>\n",
       "        </tr>\n",
       "    </tbody>\n",
       "</table>"
      ],
      "text/plain": [
       "[('Cars', 79), ('Other', 20)]"
      ]
     },
     "execution_count": 85,
     "metadata": {},
     "output_type": "execute_result"
    }
   ],
   "source": [
    "%%sql\n",
    "SELECT\n",
    "\tCASE\n",
    "\t\tWHEN Vehicle_Type IN ('Car', 'Taxi/Private hire car') THEN 'Cars'\n",
    "\t\tELSE 'Other'\n",
    "\tEND AS cars,\n",
    "\tCAST(CAST(SUM(Number_of_Casualties) AS DECIMAL(10,2)) *100 / \n",
    "\t(SELECT CAST(SUM(Number_of_Casualties) AS DECIMAL(10,2)) FROM road_accident WHERE Year = 2022) AS DECIMAL(10,2))\n",
    "\tas car_pertentage_casualties\n",
    "FROM road_accident\n",
    "WHERE Year = 2022\n",
    "GROUP BY\n",
    "\tCASE\n",
    "\t\tWHEN Vehicle_Type IN ('Car', 'Taxi/Private hire car') THEN 'Cars'\n",
    "\t\tELSE 'Other'\n",
    "\tEND"
   ]
  },
  {
   "cell_type": "markdown",
   "metadata": {},
   "source": [
    "## SECOND KPI"
   ]
  },
  {
   "cell_type": "code",
   "execution_count": 86,
   "metadata": {},
   "outputs": [
    {
     "name": "stdout",
     "output_type": "stream",
     "text": [
      " * sqlite:///RoadAccidents.db\n",
      "Done.\n"
     ]
    },
    {
     "data": {
      "text/html": [
       "<table>\n",
       "    <thead>\n",
       "        <tr>\n",
       "            <th>vehicle_group</th>\n",
       "            <th>cy_casualties</th>\n",
       "        </tr>\n",
       "    </thead>\n",
       "    <tbody>\n",
       "        <tr>\n",
       "            <td>Agricultural</td>\n",
       "            <td>399</td>\n",
       "        </tr>\n",
       "        <tr>\n",
       "            <td>Bike</td>\n",
       "            <td>15579</td>\n",
       "        </tr>\n",
       "        <tr>\n",
       "            <td>Bus</td>\n",
       "            <td>6573</td>\n",
       "        </tr>\n",
       "        <tr>\n",
       "            <td>Cars</td>\n",
       "            <td>155804</td>\n",
       "        </tr>\n",
       "        <tr>\n",
       "            <td>Other</td>\n",
       "            <td>1477</td>\n",
       "        </tr>\n",
       "        <tr>\n",
       "            <td>Van</td>\n",
       "            <td>15905</td>\n",
       "        </tr>\n",
       "    </tbody>\n",
       "</table>"
      ],
      "text/plain": [
       "[('Agricultural', 399),\n",
       " ('Bike', 15579),\n",
       " ('Bus', 6573),\n",
       " ('Cars', 155804),\n",
       " ('Other', 1477),\n",
       " ('Van', 15905)]"
      ]
     },
     "execution_count": 86,
     "metadata": {},
     "output_type": "execute_result"
    }
   ],
   "source": [
    "%%sql\n",
    "SELECT\n",
    "\tCASE\n",
    "\t\tWHEN Vehicle_Type IN ('Agricultural vehicle') THEN 'Agricultural'\n",
    "\t\tWHEN Vehicle_Type IN ('Car', 'Taxi/Private hire car') THEN 'Cars'\n",
    "\t\tWHEN Vehicle_Type IN ('Motorcycle over 500cc', 'Motorcycle 125cc and under', 'Motorcycle 50cc and under', 'Motorcycle over 125cc and up to 500cc') THEN 'Bike'\n",
    "\t\tWHEN Vehicle_Type IN ('Bus or coach (17 or more pass seats)', 'Minibus (8 - 16 passenger seats)') THEN 'Bus'\n",
    "\t\tWHEN Vehicle_Type IN ('Goods 7.5 tonnes mgw and over', 'Goods over 3.5t. and under 7.5t', 'Van / Goods 3.5 tonnes mgw or under') THEN 'Van'\n",
    "\t\tELSE 'Other'\n",
    "\tEND AS vehicle_group,\n",
    "\tSUM(Number_of_Casualties) as cy_casualties\n",
    "FROM road_accident\n",
    "WHERE Year = 2022\n",
    "GROUP BY\n",
    "\tCASE\n",
    "\t\tWHEN Vehicle_Type IN ('Agricultural vehicle') THEN 'Agricultural'\n",
    "\t\tWHEN Vehicle_Type IN ('Car', 'Taxi/Private hire car') THEN 'Cars'\n",
    "\t\tWHEN Vehicle_Type IN ('Motorcycle over 500cc', 'Motorcycle 125cc and under', 'Motorcycle 50cc and under', 'Motorcycle over 125cc and up to 500cc') THEN 'Bike'\n",
    "\t\tWHEN Vehicle_Type IN ('Bus or coach (17 or more pass seats)', 'Minibus (8 - 16 passenger seats)') THEN 'Bus'\n",
    "\t\tWHEN Vehicle_Type IN ('Goods 7.5 tonnes mgw and over', 'Goods over 3.5t. and under 7.5t', 'Van / Goods 3.5 tonnes mgw or under') THEN 'Van'\n",
    "\t\tELSE 'Other'\n",
    "\tEND\n"
   ]
  },
  {
   "cell_type": "markdown",
   "metadata": {},
   "source": [
    "## Casualties by year: monthly trend"
   ]
  },
  {
   "cell_type": "markdown",
   "metadata": {},
   "source": [
    "### 1. Current year"
   ]
  },
  {
   "cell_type": "code",
   "execution_count": 87,
   "metadata": {},
   "outputs": [
    {
     "name": "stdout",
     "output_type": "stream",
     "text": [
      " * sqlite:///RoadAccidents.db\n",
      "Done.\n"
     ]
    },
    {
     "data": {
      "text/html": [
       "<table>\n",
       "    <thead>\n",
       "        <tr>\n",
       "            <th>Month</th>\n",
       "            <th>cy_casualties</th>\n",
       "        </tr>\n",
       "    </thead>\n",
       "    <tbody>\n",
       "        <tr>\n",
       "            <td>Apr</td>\n",
       "            <td>15767</td>\n",
       "        </tr>\n",
       "        <tr>\n",
       "            <td>Aug</td>\n",
       "            <td>16796</td>\n",
       "        </tr>\n",
       "        <tr>\n",
       "            <td>Dec</td>\n",
       "            <td>13200</td>\n",
       "        </tr>\n",
       "        <tr>\n",
       "            <td>Feb</td>\n",
       "            <td>14804</td>\n",
       "        </tr>\n",
       "        <tr>\n",
       "            <td>Jan</td>\n",
       "            <td>13163</td>\n",
       "        </tr>\n",
       "        <tr>\n",
       "            <td>Jul</td>\n",
       "            <td>17201</td>\n",
       "        </tr>\n",
       "        <tr>\n",
       "            <td>Jun</td>\n",
       "            <td>17230</td>\n",
       "        </tr>\n",
       "        <tr>\n",
       "            <td>Mar</td>\n",
       "            <td>16575</td>\n",
       "        </tr>\n",
       "        <tr>\n",
       "            <td>May</td>\n",
       "            <td>16775</td>\n",
       "        </tr>\n",
       "        <tr>\n",
       "            <td>Nov</td>\n",
       "            <td>18439</td>\n",
       "        </tr>\n",
       "        <tr>\n",
       "            <td>Oct</td>\n",
       "            <td>18287</td>\n",
       "        </tr>\n",
       "        <tr>\n",
       "            <td>Sep</td>\n",
       "            <td>17500</td>\n",
       "        </tr>\n",
       "    </tbody>\n",
       "</table>"
      ],
      "text/plain": [
       "[('Apr', 15767),\n",
       " ('Aug', 16796),\n",
       " ('Dec', 13200),\n",
       " ('Feb', 14804),\n",
       " ('Jan', 13163),\n",
       " ('Jul', 17201),\n",
       " ('Jun', 17230),\n",
       " ('Mar', 16575),\n",
       " ('May', 16775),\n",
       " ('Nov', 18439),\n",
       " ('Oct', 18287),\n",
       " ('Sep', 17500)]"
      ]
     },
     "execution_count": 87,
     "metadata": {},
     "output_type": "execute_result"
    }
   ],
   "source": [
    "%%sql \n",
    "SELECT Month, SUM(Number_of_Casualties) AS cy_casualties\n",
    " FROM road_accident\n",
    " WHERE Year = '2022'\n",
    " GROUP BY Month"
   ]
  },
  {
   "cell_type": "markdown",
   "metadata": {},
   "source": [
    "### 2. Previous year "
   ]
  },
  {
   "cell_type": "code",
   "execution_count": 98,
   "metadata": {},
   "outputs": [
    {
     "name": "stdout",
     "output_type": "stream",
     "text": [
      " * sqlite:///RoadAccidents.db\n",
      "Done.\n"
     ]
    },
    {
     "data": {
      "text/html": [
       "<table>\n",
       "    <thead>\n",
       "        <tr>\n",
       "            <th>Month</th>\n",
       "            <th>py_casualties</th>\n",
       "        </tr>\n",
       "    </thead>\n",
       "    <tbody>\n",
       "        <tr>\n",
       "            <td>Apr</td>\n",
       "            <td>17335</td>\n",
       "        </tr>\n",
       "        <tr>\n",
       "            <td>Aug</td>\n",
       "            <td>18797</td>\n",
       "        </tr>\n",
       "        <tr>\n",
       "            <td>Dec</td>\n",
       "            <td>18576</td>\n",
       "        </tr>\n",
       "        <tr>\n",
       "            <td>Feb</td>\n",
       "            <td>14648</td>\n",
       "        </tr>\n",
       "        <tr>\n",
       "            <td>Jan</td>\n",
       "            <td>18173</td>\n",
       "        </tr>\n",
       "        <tr>\n",
       "            <td>Jul</td>\n",
       "            <td>19682</td>\n",
       "        </tr>\n",
       "        <tr>\n",
       "            <td>Jun</td>\n",
       "            <td>18728</td>\n",
       "        </tr>\n",
       "        <tr>\n",
       "            <td>Mar</td>\n",
       "            <td>17815</td>\n",
       "        </tr>\n",
       "        <tr>\n",
       "            <td>May</td>\n",
       "            <td>18852</td>\n",
       "        </tr>\n",
       "        <tr>\n",
       "            <td>Nov</td>\n",
       "            <td>20975</td>\n",
       "        </tr>\n",
       "        <tr>\n",
       "            <td>Oct</td>\n",
       "            <td>20109</td>\n",
       "        </tr>\n",
       "        <tr>\n",
       "            <td>Sep</td>\n",
       "            <td>18456</td>\n",
       "        </tr>\n",
       "    </tbody>\n",
       "</table>"
      ],
      "text/plain": [
       "[('Apr', 17335),\n",
       " ('Aug', 18797),\n",
       " ('Dec', 18576),\n",
       " ('Feb', 14648),\n",
       " ('Jan', 18173),\n",
       " ('Jul', 19682),\n",
       " ('Jun', 18728),\n",
       " ('Mar', 17815),\n",
       " ('May', 18852),\n",
       " ('Nov', 20975),\n",
       " ('Oct', 20109),\n",
       " ('Sep', 18456)]"
      ]
     },
     "execution_count": 98,
     "metadata": {},
     "output_type": "execute_result"
    }
   ],
   "source": [
    "%%sql \n",
    "SELECT Month, SUM(Number_of_Casualties) AS py_casualties\n",
    " FROM road_accident\n",
    " WHERE Year = '2021'\n",
    " GROUP BY Month"
   ]
  },
  {
   "cell_type": "markdown",
   "metadata": {},
   "source": [
    "## Casualties by Road type"
   ]
  },
  {
   "cell_type": "code",
   "execution_count": 89,
   "metadata": {},
   "outputs": [
    {
     "name": "stdout",
     "output_type": "stream",
     "text": [
      " * sqlite:///RoadAccidents.db\n",
      "Done.\n"
     ]
    },
    {
     "data": {
      "text/html": [
       "<table>\n",
       "    <thead>\n",
       "        <tr>\n",
       "            <th>Road_Type</th>\n",
       "            <th>cy_casualties</th>\n",
       "        </tr>\n",
       "    </thead>\n",
       "    <tbody>\n",
       "        <tr>\n",
       "            <td>Dual carriageway</td>\n",
       "            <td>31912</td>\n",
       "        </tr>\n",
       "        <tr>\n",
       "            <td>One way street</td>\n",
       "            <td>3499</td>\n",
       "        </tr>\n",
       "        <tr>\n",
       "            <td>Roundabout</td>\n",
       "            <td>12683</td>\n",
       "        </tr>\n",
       "        <tr>\n",
       "            <td>Single carriageway</td>\n",
       "            <td>144653</td>\n",
       "        </tr>\n",
       "        <tr>\n",
       "            <td>Slip road</td>\n",
       "            <td>2990</td>\n",
       "        </tr>\n",
       "    </tbody>\n",
       "</table>"
      ],
      "text/plain": [
       "[('Dual carriageway', 31912),\n",
       " ('One way street', 3499),\n",
       " ('Roundabout', 12683),\n",
       " ('Single carriageway', 144653),\n",
       " ('Slip road', 2990)]"
      ]
     },
     "execution_count": 89,
     "metadata": {},
     "output_type": "execute_result"
    }
   ],
   "source": [
    "%%sql\n",
    " SELECT Road_Type, SUM(Number_of_Casualties) AS cy_casualties\n",
    " FROM road_accident\n",
    " WHERE Year = '2022'\n",
    " GROUP BY Road_Type\n"
   ]
  },
  {
   "cell_type": "markdown",
   "metadata": {},
   "source": [
    "## Casualties by Rural or Urban areas"
   ]
  },
  {
   "cell_type": "markdown",
   "metadata": {},
   "source": [
    "### 1. Sum"
   ]
  },
  {
   "cell_type": "code",
   "execution_count": 90,
   "metadata": {},
   "outputs": [
    {
     "name": "stdout",
     "output_type": "stream",
     "text": [
      " * sqlite:///RoadAccidents.db\n",
      "Done.\n"
     ]
    },
    {
     "data": {
      "text/html": [
       "<table>\n",
       "    <thead>\n",
       "        <tr>\n",
       "            <th>Urban_or_Rural_Area</th>\n",
       "            <th>cy_casualties</th>\n",
       "        </tr>\n",
       "    </thead>\n",
       "    <tbody>\n",
       "        <tr>\n",
       "            <td>Rural</td>\n",
       "            <td>74486</td>\n",
       "        </tr>\n",
       "        <tr>\n",
       "            <td>Urban</td>\n",
       "            <td>121251</td>\n",
       "        </tr>\n",
       "    </tbody>\n",
       "</table>"
      ],
      "text/plain": [
       "[('Rural', 74486), ('Urban', 121251)]"
      ]
     },
     "execution_count": 90,
     "metadata": {},
     "output_type": "execute_result"
    }
   ],
   "source": [
    "%%sql\n",
    "SELECT Urban_or_Rural_Area, SUM(Number_of_Casualties) AS cy_casualties\n",
    " FROM road_accident\n",
    " WHERE Year = '2022'\n",
    " GROUP BY Urban_or_Rural_Area"
   ]
  },
  {
   "cell_type": "markdown",
   "metadata": {},
   "source": [
    "### 2. Percentage"
   ]
  },
  {
   "cell_type": "code",
   "execution_count": 91,
   "metadata": {},
   "outputs": [
    {
     "name": "stdout",
     "output_type": "stream",
     "text": [
      " * sqlite:///RoadAccidents.db\n"
     ]
    },
    {
     "name": "stdout",
     "output_type": "stream",
     "text": [
      "Done.\n"
     ]
    },
    {
     "data": {
      "text/html": [
       "<table>\n",
       "    <thead>\n",
       "        <tr>\n",
       "            <th>Urban_or_Rural_Area</th>\n",
       "            <th>percentage</th>\n",
       "        </tr>\n",
       "    </thead>\n",
       "    <tbody>\n",
       "        <tr>\n",
       "            <td>Rural</td>\n",
       "            <td>38</td>\n",
       "        </tr>\n",
       "        <tr>\n",
       "            <td>Urban</td>\n",
       "            <td>61</td>\n",
       "        </tr>\n",
       "    </tbody>\n",
       "</table>"
      ],
      "text/plain": [
       "[('Rural', 38), ('Urban', 61)]"
      ]
     },
     "execution_count": 91,
     "metadata": {},
     "output_type": "execute_result"
    }
   ],
   "source": [
    "%%sql\n",
    " SELECT Urban_or_Rural_Area, SUM(Number_of_Casualties) * 100 /\n",
    " (SELECT SUM(Number_of_Casualties) FROM road_accident WHERE Year = '2022')\n",
    " AS percentage\n",
    " FROM road_accident\n",
    " WHERE Year = '2022'\n",
    " GROUP BY Urban_or_Rural_Area"
   ]
  },
  {
   "cell_type": "markdown",
   "metadata": {},
   "source": [
    "## Casualties by lighting condition"
   ]
  },
  {
   "cell_type": "markdown",
   "metadata": {},
   "source": [
    "### 1. Sum"
   ]
  },
  {
   "cell_type": "code",
   "execution_count": 92,
   "metadata": {},
   "outputs": [
    {
     "name": "stdout",
     "output_type": "stream",
     "text": [
      " * sqlite:///RoadAccidents.db\n",
      "Done.\n"
     ]
    },
    {
     "data": {
      "text/html": [
       "<table>\n",
       "    <thead>\n",
       "        <tr>\n",
       "            <th>light_conditions</th>\n",
       "            <th>cy_casualties</th>\n",
       "        </tr>\n",
       "    </thead>\n",
       "    <tbody>\n",
       "        <tr>\n",
       "            <td>Dark</td>\n",
       "            <td>51198</td>\n",
       "        </tr>\n",
       "        <tr>\n",
       "            <td>Daylight</td>\n",
       "            <td>144539</td>\n",
       "        </tr>\n",
       "    </tbody>\n",
       "</table>"
      ],
      "text/plain": [
       "[('Dark', 51198), ('Daylight', 144539)]"
      ]
     },
     "execution_count": 92,
     "metadata": {},
     "output_type": "execute_result"
    }
   ],
   "source": [
    "%%sql\n",
    "SELECT\n",
    "\tCASE\n",
    "\t\tWHEN Light_Conditions IN ('Darkness - lighting unknown', 'Darkness - lights lit', 'Darkness - lights unlit', 'Darkness - no lighting') THEN 'Dark'\n",
    "\t\tELSE 'Daylight'\n",
    "\tEND AS light_conditions,\n",
    "\tSUM(Number_of_Casualties) AS cy_casualties\n",
    " FROM road_accident\n",
    " WHERE Year = '2022'\n",
    " GROUP BY\n",
    " \tCASE\n",
    "\t\tWHEN Light_Conditions IN ('Darkness - lighting unknown', 'Darkness - lights lit', 'Darkness - lights unlit', 'Darkness - no lighting') THEN 'Dark'\n",
    "\t\tELSE 'Daylight'\n",
    "\tEND"
   ]
  },
  {
   "cell_type": "markdown",
   "metadata": {},
   "source": [
    "### 2. Percentage"
   ]
  },
  {
   "cell_type": "code",
   "execution_count": 93,
   "metadata": {},
   "outputs": [
    {
     "name": "stdout",
     "output_type": "stream",
     "text": [
      " * sqlite:///RoadAccidents.db\n",
      "Done.\n"
     ]
    },
    {
     "data": {
      "text/html": [
       "<table>\n",
       "    <thead>\n",
       "        <tr>\n",
       "            <th>light_conditions</th>\n",
       "            <th>percentage</th>\n",
       "        </tr>\n",
       "    </thead>\n",
       "    <tbody>\n",
       "        <tr>\n",
       "            <td>Dark</td>\n",
       "            <td>26</td>\n",
       "        </tr>\n",
       "        <tr>\n",
       "            <td>Daylight</td>\n",
       "            <td>73</td>\n",
       "        </tr>\n",
       "    </tbody>\n",
       "</table>"
      ],
      "text/plain": [
       "[('Dark', 26), ('Daylight', 73)]"
      ]
     },
     "execution_count": 93,
     "metadata": {},
     "output_type": "execute_result"
    }
   ],
   "source": [
    "%%sql\n",
    "SELECT\n",
    "\tCASE\n",
    "\t\tWHEN Light_Conditions IN ('Darkness - lighting unknown', 'Darkness - lights lit', 'Darkness - lights unlit', 'Darkness - no lighting') THEN 'Dark'\n",
    "\t\tELSE 'Daylight'\n",
    "\tEND AS light_conditions,\n",
    "\tCAST(CAST(SUM(Number_of_Casualties) AS DECIMAL(10,2)) * 100 /\n",
    " (SELECT CAST(SUM(Number_of_Casualties) AS DECIMAL(10,2)) FROM road_accident WHERE Year = '2022') AS DECIMAL(10,2))\n",
    " AS percentage\n",
    " FROM road_accident\n",
    " WHERE Year = '2022'\n",
    " GROUP BY\n",
    " \tCASE\n",
    "\t\tWHEN Light_Conditions IN ('Darkness - lighting unknown', 'Darkness - lights lit', 'Darkness - lights unlit', 'Darkness - no lighting') THEN 'Dark'\n",
    "\t\tELSE 'Daylight'\n",
    "\tEND"
   ]
  },
  {
   "cell_type": "markdown",
   "metadata": {},
   "source": [
    "## TOP 10 Casualties by District"
   ]
  },
  {
   "cell_type": "code",
   "execution_count": 96,
   "metadata": {},
   "outputs": [
    {
     "name": "stdout",
     "output_type": "stream",
     "text": [
      " * sqlite:///RoadAccidents.db\n",
      "Done.\n"
     ]
    },
    {
     "data": {
      "text/html": [
       "<table>\n",
       "    <thead>\n",
       "        <tr>\n",
       "            <th>Local_Authority_District</th>\n",
       "            <th>cy_casualties</th>\n",
       "        </tr>\n",
       "    </thead>\n",
       "    <tbody>\n",
       "        <tr>\n",
       "            <td>Birmingham</td>\n",
       "            <td>4092</td>\n",
       "        </tr>\n",
       "        <tr>\n",
       "            <td>Leeds</td>\n",
       "            <td>2764</td>\n",
       "        </tr>\n",
       "        <tr>\n",
       "            <td>Cornwall</td>\n",
       "            <td>2092</td>\n",
       "        </tr>\n",
       "        <tr>\n",
       "            <td>Bradford</td>\n",
       "            <td>2089</td>\n",
       "        </tr>\n",
       "        <tr>\n",
       "            <td>Liverpool</td>\n",
       "            <td>2077</td>\n",
       "        </tr>\n",
       "        <tr>\n",
       "            <td>Manchester</td>\n",
       "            <td>1962</td>\n",
       "        </tr>\n",
       "        <tr>\n",
       "            <td>Sheffield</td>\n",
       "            <td>1764</td>\n",
       "        </tr>\n",
       "        <tr>\n",
       "            <td>County Durham</td>\n",
       "            <td>1708</td>\n",
       "        </tr>\n",
       "        <tr>\n",
       "            <td>Cheshire East</td>\n",
       "            <td>1656</td>\n",
       "        </tr>\n",
       "        <tr>\n",
       "            <td>Kirklees</td>\n",
       "            <td>1614</td>\n",
       "        </tr>\n",
       "    </tbody>\n",
       "</table>"
      ],
      "text/plain": [
       "[('Birmingham', 4092),\n",
       " ('Leeds', 2764),\n",
       " ('Cornwall', 2092),\n",
       " ('Bradford', 2089),\n",
       " ('Liverpool', 2077),\n",
       " ('Manchester', 1962),\n",
       " ('Sheffield', 1764),\n",
       " ('County Durham', 1708),\n",
       " ('Cheshire East', 1656),\n",
       " ('Kirklees', 1614)]"
      ]
     },
     "execution_count": 96,
     "metadata": {},
     "output_type": "execute_result"
    }
   ],
   "source": [
    "%%sql\n",
    "SELECT Local_Authority_District, SUM(Number_of_Casualties) AS cy_casualties\n",
    " FROM road_accident\n",
    " WHERE Year = '2022' \n",
    " GROUP BY Local_Authority_District\n",
    " ORDER BY cy_casualties DESC\n",
    " LIMIT 10\n"
   ]
  },
  {
   "cell_type": "markdown",
   "metadata": {},
   "source": [
    "## Casualties by Road Surface"
   ]
  },
  {
   "cell_type": "code",
   "execution_count": 97,
   "metadata": {},
   "outputs": [
    {
     "name": "stdout",
     "output_type": "stream",
     "text": [
      " * sqlite:///RoadAccidents.db\n",
      "Done.\n"
     ]
    },
    {
     "data": {
      "text/html": [
       "<table>\n",
       "    <thead>\n",
       "        <tr>\n",
       "            <th>Road_Surface_Conditions</th>\n",
       "            <th>total_casualties</th>\n",
       "        </tr>\n",
       "    </thead>\n",
       "    <tbody>\n",
       "        <tr>\n",
       "            <td>Dry</td>\n",
       "            <td>279445</td>\n",
       "        </tr>\n",
       "        <tr>\n",
       "            <td>Snow/Ice</td>\n",
       "            <td>22781</td>\n",
       "        </tr>\n",
       "        <tr>\n",
       "            <td>Wet</td>\n",
       "            <td>115657</td>\n",
       "        </tr>\n",
       "    </tbody>\n",
       "</table>"
      ],
      "text/plain": [
       "[('Dry', 279445), ('Snow/Ice', 22781), ('Wet', 115657)]"
      ]
     },
     "execution_count": 97,
     "metadata": {},
     "output_type": "execute_result"
    }
   ],
   "source": [
    "%%sql\n",
    " SELECT\n",
    "\tCASE\n",
    "\t\tWHEN Road_Surface_Conditions IN ('Flood over 3cm. deep', 'Wet or damp') THEN 'Wet'\n",
    "\t\tWHEN Road_Surface_Conditions IN ('Frost or ice', 'Snow') THEN 'Snow/Ice'\n",
    "\t\tELSE 'Dry'\n",
    "\tEND AS Road_Surface_Conditions,\n",
    "\tSUM(Number_of_Casualties) AS total_casualties\n",
    " FROM road_accident\n",
    " GROUP BY\n",
    "\tCASE\n",
    "\t\tWHEN Road_Surface_Conditions IN ('Flood over 3cm. deep', 'Wet or damp') THEN 'Wet'\n",
    "\t\tWHEN Road_Surface_Conditions IN ('Frost or ice', 'Snow') THEN 'Snow/Ice'\n",
    "\t\tELSE 'Dry'\n",
    "\tEND\n"
   ]
  }
 ],
 "metadata": {
  "kernelspec": {
   "display_name": "Python 3",
   "language": "python",
   "name": "python3"
  },
  "language_info": {
   "codemirror_mode": {
    "name": "ipython",
    "version": 3
   },
   "file_extension": ".py",
   "mimetype": "text/x-python",
   "name": "python",
   "nbconvert_exporter": "python",
   "pygments_lexer": "ipython3",
   "version": "3.11.3"
  },
  "orig_nbformat": 4
 },
 "nbformat": 4,
 "nbformat_minor": 2
}
